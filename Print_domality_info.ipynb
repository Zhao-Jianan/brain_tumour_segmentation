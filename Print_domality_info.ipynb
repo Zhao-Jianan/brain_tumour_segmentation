{
 "cells": [
  {
   "cell_type": "code",
   "execution_count": 4,
   "id": "b75db498-5e8d-4dab-9e01-7afebb54706a",
   "metadata": {},
   "outputs": [],
   "source": [
    "import os\n",
    "import nibabel as nib\n",
    "import csv"
   ]
  },
  {
   "cell_type": "code",
   "execution_count": null,
   "id": "f581f764-38f0-410d-ad92-bbbf5b9c5a48",
   "metadata": {},
   "outputs": [],
   "source": [
    "# 指定存放 NIfTI 文件的文件夹\n",
    "data_dir = \"./NIfTI/20220114_35320313_BSR/20220111_pre_OP\" \n",
    "\n",
    "# 创建 CSV 文件并写入表头\n",
    "csv_file = \"nifti_file_info.csv\"\n",
    "with open(csv_file, mode='w', newline='') as csvfile:\n",
    "    fieldnames = ['Filename', 'Shape', 'Affine Matrix', 'Orientation']\n",
    "    writer = csv.DictWriter(csvfile, fieldnames=fieldnames)\n",
    "    \n",
    "    writer.writeheader()\n",
    "\n",
    "    # 遍历文件夹中的所有 NIfTI 文件\n",
    "    for filename in sorted(os.listdir(data_dir)):\n",
    "        if filename.endswith(\".nii\") or filename.endswith(\".nii.gz\"):\n",
    "            file_path = os.path.join(data_dir, filename)\n",
    "            \n",
    "            # 读取 NIfTI 文件\n",
    "            img = nib.load(file_path)\n",
    "            \n",
    "            # 获取图像形状\n",
    "            shape = img.shape\n",
    "            \n",
    "            # 获取仿射矩阵\n",
    "            affine = img.affine\n",
    "            \n",
    "            # 获取坐标轴方向（LPS、RAS等）\n",
    "            orientation = nib.aff2axcodes(affine)\n",
    "            \n",
    "            # 将信息写入 CSV\n",
    "            writer.writerow({\n",
    "                'Filename': filename,\n",
    "                'Shape': shape,\n",
    "                'Affine Matrix': str(affine),\n",
    "                'Orientation': orientation\n",
    "            })\n",
    "\n",
    "print(f\"信息已保存到 {csv_file}\")"
   ]
  },
  {
   "cell_type": "code",
   "execution_count": null,
   "id": "6990ecde-5808-4ed2-bb7d-98280911378d",
   "metadata": {},
   "outputs": [],
   "source": []
  },
  {
   "cell_type": "code",
   "execution_count": 5,
   "id": "a47d86a1-ff3f-4cfb-885b-442d6d202966",
   "metadata": {},
   "outputs": [
    {
     "name": "stdout",
     "output_type": "stream",
     "text": [
      "文件夹层级结构已写入 C:/Users/ajhz839/workwork/Data/folder_structure.txt\n"
     ]
    }
   ],
   "source": [
    "def list_folders(root_dir, output_file):\n",
    "    with open(output_file, 'w') as f:\n",
    "        # 遍历文件夹\n",
    "        for dirpath, dirnames, _ in os.walk(root_dir):\n",
    "            # 计算层级\n",
    "            level = dirpath.replace(root_dir, '').count(os.sep)\n",
    "            # 只输出文件夹路径，去除文件名部分\n",
    "            f.write(f\"{'    ' * level}{os.path.basename(dirpath)}\\n\")\n",
    "\n",
    "# 示例用法\n",
    "root_folder = 'C:/Users/ajhz839/workwork/Data/NIfTI/'   # 替换成你的文件夹路径\n",
    "output_txt = 'C:/Users/ajhz839/workwork/Data/folder_structure.txt'  # 输出的文本文件\n",
    "list_folders(root_folder, output_txt)\n",
    "\n",
    "print(f\"文件夹层级结构已写入 {output_txt}\")\n"
   ]
  }
 ],
 "metadata": {
  "kernelspec": {
   "display_name": "Python 3 (ipykernel)",
   "language": "python",
   "name": "python3"
  },
  "language_info": {
   "codemirror_mode": {
    "name": "ipython",
    "version": 3
   },
   "file_extension": ".py",
   "mimetype": "text/x-python",
   "name": "python",
   "nbconvert_exporter": "python",
   "pygments_lexer": "ipython3",
   "version": "3.9.21"
  }
 },
 "nbformat": 4,
 "nbformat_minor": 5
}
