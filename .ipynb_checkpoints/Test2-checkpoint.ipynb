{
 "cells": [
  {
   "cell_type": "code",
   "execution_count": 2,
   "id": "45d44758-81ba-486d-8af6-9935b5793db6",
   "metadata": {},
   "outputs": [],
   "source": [
    "import nibabel as nib\n",
    "import numpy as np\n",
    "from nibabel.orientations import aff2axcodes\n",
    "import nibabel.processing"
   ]
  },
  {
   "cell_type": "code",
   "execution_count": 2,
   "id": "c13410a4-92d4-4622-8a1c-beb74598aa4d",
   "metadata": {},
   "outputs": [],
   "source": [
    "# 读取 NIfTI 文件\n",
    "nifti_file = \"test/20220111_pre_OP_3D_FLAIR_FS_AX_5mm_20220111014643_402.nii.gz\"\n",
    "img = nib.load(nifti_file)\n",
    "\n",
    "# 获取数据数组\n",
    "data = img.get_fdata()"
   ]
  },
  {
   "cell_type": "code",
   "execution_count": 3,
   "id": "f5de900b-f267-4459-81ea-906868c8d0e4",
   "metadata": {},
   "outputs": [
    {
     "name": "stdout",
     "output_type": "stream",
     "text": [
      "NIfTI 形状: (1024, 1024, 25)\n",
      "仿射矩阵: [[ 2.34364823e-01  2.16116919e-03  8.14247876e-03 -1.23858421e+02]\n",
      " [-2.18370580e-03  2.30898038e-01  1.02814257e+00 -1.17857437e+02]\n",
      " [ 5.69846779e-05 -4.01630439e-02  5.91124773e+00 -3.99858170e+01]\n",
      " [ 0.00000000e+00  0.00000000e+00  0.00000000e+00  1.00000000e+00]]\n",
      "数据类型: float64\n",
      "体素尺寸 (mm): (np.float32(0.234375), np.float32(0.234375), np.float32(6.0))\n"
     ]
    }
   ],
   "source": [
    "# 查看形状和元数据\n",
    "print(\"NIfTI 形状:\", data.shape)\n",
    "print(\"仿射矩阵:\", img.affine)\n",
    "print(\"数据类型:\", data.dtype)\n",
    "print(\"体素尺寸 (mm):\", img.header.get_zooms())"
   ]
  },
  {
   "cell_type": "code",
   "execution_count": 4,
   "id": "fbe66a4e-3f74-4632-bbeb-0cbeb3431243",
   "metadata": {},
   "outputs": [
    {
     "name": "stdout",
     "output_type": "stream",
     "text": [
      "原始体素尺寸: [0.234375   0.23437501 5.99999943]\n"
     ]
    }
   ],
   "source": [
    "voxel_size = np.sqrt(np.sum(img.affine[:3, :3] ** 2, axis=0))\n",
    "print(\"原始体素尺寸:\", voxel_size)"
   ]
  },
  {
   "cell_type": "code",
   "execution_count": 5,
   "id": "fc0e86a9-2d25-47c2-aee2-7a59209562ea",
   "metadata": {},
   "outputs": [
    {
     "name": "stdout",
     "output_type": "stream",
     "text": [
      "数据方向: ('R', 'A', 'S')\n"
     ]
    }
   ],
   "source": [
    "affine_matrix = np.array(img.affine)\n",
    "\n",
    "print(\"数据方向:\", aff2axcodes(affine_matrix))"
   ]
  },
  {
   "cell_type": "code",
   "execution_count": 8,
   "id": "76e3ebf2-230b-443b-b79b-4c3daeedaac9",
   "metadata": {},
   "outputs": [],
   "source": [
    "img = nib.load(\"test/20220111_pre_OP_3D_FLAIR_FS_AX_5mm_20220111014643_402.nii.gz\")\n",
    "resampled_img = nibabel.processing.resample_to_output(img, voxel_sizes=(1, 1, 1))\n",
    "nib.save(resampled_img, \"test/resampled_20220111_pre_OP_3D_FLAIR_FS_AX_5mm_20220111014643_402.nii.gz\")"
   ]
  },
  {
   "cell_type": "code",
   "execution_count": 9,
   "id": "2ac5e91d-7eee-4c98-809a-ab8e6ac729c6",
   "metadata": {},
   "outputs": [],
   "source": [
    "# 读取 NIfTI 文件\n",
    "nifti_file = \"test/resampled_20220111_pre_OP_3D_FLAIR_FS_AX_5mm_20220111014643_402_resampled.nii.gz\"\n",
    "img = nib.load(nifti_file)\n",
    "\n",
    "# 获取数据数组\n",
    "data = img.get_fdata()"
   ]
  },
  {
   "cell_type": "code",
   "execution_count": 10,
   "id": "971354a2-53fc-42e2-9206-549f9cdbe75c",
   "metadata": {},
   "outputs": [
    {
     "name": "stdout",
     "output_type": "stream",
     "text": [
      "NIfTI 形状: (244, 265, 185)\n",
      "仿射矩阵: [[ 1.00000000e+00  2.16116919e-03  8.14247876e-03 -1.23858421e+02]\n",
      " [-2.18370580e-03  1.00000000e+00  1.02814257e+00 -1.17857437e+02]\n",
      " [ 5.69846779e-05 -4.01630439e-02  1.00000000e+00 -3.99858170e+01]\n",
      " [ 0.00000000e+00  0.00000000e+00  0.00000000e+00  1.00000000e+00]]\n",
      "数据类型: float64\n"
     ]
    }
   ],
   "source": [
    "# 查看形状和元数据\n",
    "print(\"NIfTI 形状:\", data.shape)\n",
    "print(\"仿射矩阵:\", img.affine)\n",
    "print(\"数据类型:\", data.dtype)"
   ]
  },
  {
   "cell_type": "code",
   "execution_count": 13,
   "id": "39e3cbff-49c7-4de1-8640-0b7aa1977a14",
   "metadata": {},
   "outputs": [
    {
     "name": "stdout",
     "output_type": "stream",
     "text": [
      "数据方向: ('R', 'A', 'S')\n"
     ]
    }
   ],
   "source": [
    "affine_matrix = np.array(img.affine)\n",
    "\n",
    "print(\"数据方向:\", aff2axcodes(affine_matrix))"
   ]
  },
  {
   "cell_type": "code",
   "execution_count": null,
   "id": "66b875f4-1995-49d8-9626-10b12d440371",
   "metadata": {},
   "outputs": [],
   "source": []
  },
  {
   "cell_type": "code",
   "execution_count": 11,
   "id": "1249ced1-4f41-4522-8df1-acf6db21246e",
   "metadata": {},
   "outputs": [
    {
     "name": "stdout",
     "output_type": "stream",
     "text": [
      "原始仿射矩阵: [[ 2.34364823e-01  2.16116919e-03  8.14247876e-03 -1.23858421e+02]\n",
      " [-2.18370580e-03  2.30898038e-01  1.02814257e+00 -1.17857437e+02]\n",
      " [ 5.69846779e-05 -4.01630439e-02  5.91124773e+00 -3.99858170e+01]\n",
      " [ 0.00000000e+00  0.00000000e+00  0.00000000e+00  1.00000000e+00]]\n"
     ]
    }
   ],
   "source": [
    "# 加载原始 NIfTI 图像\n",
    "img = nib.load(\"test/20220111_pre_OP_3D_FLAIR_FS_AX_5mm_20220111014643_402.nii.gz\")\n",
    "\n",
    "# 获取原始仿射矩阵\n",
    "affine = img.affine\n",
    "print(\"原始仿射矩阵:\", affine)\n",
    "\n",
    "# 手动设置 X 和 Y 轴体素尺寸为相同（修改仿射矩阵）\n",
    "new_affine = affine.copy()\n",
    "new_affine[0, 0] = 1.0  # X 轴体素尺寸\n",
    "new_affine[1, 1] = 1.0  # Y 轴体素尺寸\n",
    "new_affine[2, 2] = 1.0  # Z 轴体素尺寸\n",
    "\n",
    "# 创建新的 Nifti1Image 对象，并使用新的仿射矩阵\n",
    "img_with_new_affine = nib.Nifti1Image(img.get_fdata(), new_affine)\n",
    "\n",
    "# 保存修改后的图像\n",
    "nib.save(img_with_new_affine, \"test/modified_20220111_pre_OP_3D_FLAIR_FS_AX_5mm_20220111014643_402_with_new_affine.nii.gz\")\n"
   ]
  },
  {
   "cell_type": "code",
   "execution_count": 12,
   "id": "5ae7d959-937e-4531-b982-6df2d4387d00",
   "metadata": {},
   "outputs": [
    {
     "name": "stdout",
     "output_type": "stream",
     "text": [
      "NIfTI 形状: (1024, 1024, 25)\n",
      "仿射矩阵: [[ 1.00000000e+00  2.16116919e-03  8.14247876e-03 -1.23858421e+02]\n",
      " [-2.18370580e-03  1.00000000e+00  1.02814257e+00 -1.17857437e+02]\n",
      " [ 5.69846779e-05 -4.01630439e-02  1.00000000e+00 -3.99858170e+01]\n",
      " [ 0.00000000e+00  0.00000000e+00  0.00000000e+00  1.00000000e+00]]\n",
      "数据类型: float64\n",
      "原始体素尺寸: [1.00000239 1.00080854 1.43427454]\n"
     ]
    }
   ],
   "source": [
    "# 读取 NIfTI 文件\n",
    "modified_nifti_file = \"test/modified_20220111_pre_OP_3D_FLAIR_FS_AX_5mm_20220111014643_402_with_new_affine.nii.gz\"\n",
    "modified_img = nib.load(modified_nifti_file)\n",
    "\n",
    "# 获取数据数组\n",
    "modified_data = modified_img.get_fdata()\n",
    "\n",
    "# 查看形状和元数据\n",
    "print(\"NIfTI 形状:\", modified_data.shape)\n",
    "print(\"仿射矩阵:\", modified_img.affine)\n",
    "print(\"数据类型:\", modified_data.dtype)\n",
    "\n",
    "modified_voxel_size = np.sqrt(np.sum(modified_img.affine[:3, :3] ** 2, axis=0))\n",
    "print(\"原始体素尺寸:\", modified_voxel_size)"
   ]
  },
  {
   "cell_type": "markdown",
   "id": "53106c3a-66ad-4175-a196-4bcd9c5354ca",
   "metadata": {},
   "source": [
    "# T1"
   ]
  },
  {
   "cell_type": "code",
   "execution_count": 20,
   "id": "e5edccaa-0573-4433-954a-f4750137fb45",
   "metadata": {},
   "outputs": [],
   "source": [
    "# 读取 NIfTI 文件\n",
    "t1_test_nifti_file = \"test/20220111_pre_OP_3DT1_AX_Gadovist_1mm_20220111014643_1303.nii.gz\"\n",
    "t1_test_img = nib.load(t1_test_nifti_file)\n",
    "\n",
    "# 获取数据数组\n",
    "t1_test_data = t1_test_img.get_fdata()"
   ]
  },
  {
   "cell_type": "code",
   "execution_count": 21,
   "id": "fc5dc0c0-12cb-41d1-8d04-426c0ffbd11d",
   "metadata": {},
   "outputs": [
    {
     "name": "stdout",
     "output_type": "stream",
     "text": [
      "NIfTI 形状: (1024, 1024, 155)\n",
      "仿射矩阵: [[ 2.34364823e-01  2.16116919e-03  1.35707960e-03 -1.23876503e+02]\n",
      " [-2.18370580e-03  2.30898038e-01  1.71357065e-01 -1.19829010e+02]\n",
      " [ 5.69846779e-05 -4.01630439e-02  9.85207736e-01 -4.11954269e+01]\n",
      " [ 0.00000000e+00  0.00000000e+00  0.00000000e+00  1.00000000e+00]]\n",
      "数据类型: float64\n",
      "体素尺寸 (mm): (np.float32(0.234375), np.float32(0.234375), np.float32(1.0))\n"
     ]
    }
   ],
   "source": [
    "# 查看形状和元数据\n",
    "print(\"NIfTI 形状:\", t1_test_data.shape)\n",
    "print(\"仿射矩阵:\", t1_test_img.affine)\n",
    "print(\"数据类型:\", t1_test_data.dtype)\n",
    "print(\"体素尺寸 (mm):\", t1_test_img.header.get_zooms())"
   ]
  },
  {
   "cell_type": "code",
   "execution_count": 22,
   "id": "63f810ec-7431-4c08-97ef-e07f7380ca34",
   "metadata": {},
   "outputs": [
    {
     "name": "stdout",
     "output_type": "stream",
     "text": [
      "原始体素尺寸: [0.234375   0.23437501 0.99999968]\n"
     ]
    }
   ],
   "source": [
    "voxel_size = np.sqrt(np.sum(t1_test_img.affine[:3, :3] ** 2, axis=0))\n",
    "print(\"原始体素尺寸:\", voxel_size)"
   ]
  },
  {
   "cell_type": "code",
   "execution_count": 23,
   "id": "e2e33041-3a89-4f48-9fb0-c06a7aa506fe",
   "metadata": {},
   "outputs": [
    {
     "name": "stdout",
     "output_type": "stream",
     "text": [
      "数据方向: ('R', 'A', 'S')\n"
     ]
    }
   ],
   "source": [
    "affine_matrix = np.array(t1_test_img.affine)\n",
    "\n",
    "print(\"数据方向:\", aff2axcodes(affine_matrix))"
   ]
  },
  {
   "cell_type": "code",
   "execution_count": 24,
   "id": "0a016d45-f933-4e9b-92c6-23a890e050ac",
   "metadata": {},
   "outputs": [],
   "source": [
    "img = nib.load(\"test/20220111_pre_OP_3DT1_AX_Gadovist_1mm_20220111014643_1303.nii.gz\")\n",
    "resampled_t1_test = nibabel.processing.resample_to_output(t1_test_img, voxel_sizes=(1, 1, 1))\n",
    "nib.save(resampled_t1_test, \"test/resampled_20220111_pre_OP_3DT1_AX_Gadovist_1mm_20220111014643_1303.nii.gz\")"
   ]
  },
  {
   "cell_type": "code",
   "execution_count": 26,
   "id": "38db264c-15f6-4d8c-9006-c10fc3c13fbd",
   "metadata": {},
   "outputs": [],
   "source": [
    "# 读取 NIfTI 文件\n",
    "resample_t1_test_nifti_file = \"test/resampled_20220111_pre_OP_3DT1_AX_Gadovist_1mm_20220111014643_1303.nii.gz\"\n",
    "resample_t1_test_img = nib.load(resample_t1_test_nifti_file)\n",
    "\n",
    "# 获取数据数组\n",
    "resample_t1_test_data = resample_t1_test_img.get_fdata()"
   ]
  },
  {
   "cell_type": "code",
   "execution_count": 27,
   "id": "18891bff-4d39-44cc-80c7-b3b3438acc55",
   "metadata": {},
   "outputs": [
    {
     "name": "stdout",
     "output_type": "stream",
     "text": [
      "NIfTI 形状: (244, 266, 194)\n",
      "仿射矩阵: [[   1.            0.            0.         -123.87650299]\n",
      " [   0.            1.            0.         -122.0629425 ]\n",
      " [   0.            0.            1.          -82.28221893]\n",
      " [   0.            0.            0.            1.        ]]\n",
      "数据类型: float64\n",
      "体素尺寸 (mm): (np.float32(1.0), np.float32(1.0), np.float32(1.0))\n"
     ]
    }
   ],
   "source": [
    "# 查看形状和元数据\n",
    "print(\"NIfTI 形状:\", resample_t1_test_data.shape)\n",
    "print(\"仿射矩阵:\", resample_t1_test_img.affine)\n",
    "print(\"数据类型:\", resample_t1_test_data.dtype)\n",
    "print(\"体素尺寸 (mm):\", resample_t1_test_img.header.get_zooms())"
   ]
  },
  {
   "cell_type": "code",
   "execution_count": null,
   "id": "b37fadf6-fe27-48c0-8521-5279c4fe69da",
   "metadata": {},
   "outputs": [],
   "source": []
  },
  {
   "cell_type": "code",
   "execution_count": null,
   "id": "1ec697ec-e54b-4f61-b292-90d8fab6aefa",
   "metadata": {},
   "outputs": [],
   "source": []
  },
  {
   "cell_type": "code",
   "execution_count": 3,
   "id": "3fe5a9e4-7437-402d-aa2d-f062823cf657",
   "metadata": {},
   "outputs": [],
   "source": [
    "# 读取 NIfTI 文件\n",
    "seg_file = \"BraTS2021_00495/BraTS2021_00495_seg.nii.gz\"\n",
    "seg_img = nib.load(seg_file)\n",
    "\n",
    "flair_file = \"BraTS2021_00495/BraTS2021_00495_flair.nii.gz\"\n",
    "flair_img = nib.load(flair_file)\n",
    "\n",
    "# 获取数据数组\n",
    "seg_data = seg_img.get_fdata()\n",
    "flair_data = flair_img.get_fdata()"
   ]
  },
  {
   "cell_type": "code",
   "execution_count": 4,
   "id": "5a6fdf93-d897-41cb-a481-9ed37e2b2c60",
   "metadata": {},
   "outputs": [
    {
     "name": "stdout",
     "output_type": "stream",
     "text": [
      "-----seg-----\n",
      "NIfTI 形状: (240, 240, 155)\n",
      "仿射矩阵: [[ -1.  -0.  -0.   0.]\n",
      " [ -0.  -1.  -0. 239.]\n",
      " [  0.   0.   1.   0.]\n",
      " [  0.   0.   0.   1.]]\n",
      "数据类型: float64\n",
      "体素尺寸 (mm): (np.float32(1.0), np.float32(1.0), np.float32(1.0))\n",
      "-----flair-----\n",
      "NIfTI 形状: (240, 240, 155)\n",
      "仿射矩阵: [[ -1.   0.   0.  -0.]\n",
      " [  0.  -1.   0. 239.]\n",
      " [  0.   0.   1.   0.]\n",
      " [  0.   0.   0.   1.]]\n",
      "数据类型: float64\n",
      "体素尺寸 (mm): (np.float32(1.0), np.float32(1.0), np.float32(1.0))\n"
     ]
    }
   ],
   "source": [
    "# 查看形状和元数据\n",
    "print('-----seg-----')\n",
    "print(\"NIfTI 形状:\", flair_data.shape)\n",
    "print(\"仿射矩阵:\", flair_img.affine)\n",
    "print(\"数据类型:\", flair_data.dtype)\n",
    "print(\"体素尺寸 (mm):\", flair_img.header.get_zooms())\n",
    "\n",
    "print('-----flair-----')\n",
    "print(\"NIfTI 形状:\", seg_data.shape)\n",
    "print(\"仿射矩阵:\", seg_img.affine)\n",
    "print(\"数据类型:\", seg_data.dtype)\n",
    "print(\"体素尺寸 (mm):\", flair_img.header.get_zooms())"
   ]
  },
  {
   "cell_type": "code",
   "execution_count": 9,
   "id": "e495ddf2-a797-42aa-bf32-a45cd26f6726",
   "metadata": {},
   "outputs": [
    {
     "name": "stdout",
     "output_type": "stream",
     "text": [
      "体素尺寸 (mm): (np.float32(1.0), np.float32(1.0), np.float32(1.0))\n"
     ]
    }
   ],
   "source": [
    "print(\"体素尺寸 (mm):\", flair_img.header.get_zooms())"
   ]
  },
  {
   "cell_type": "code",
   "execution_count": null,
   "id": "0ef1ff03-9b7b-43d6-8e0a-a2d54ae8430d",
   "metadata": {},
   "outputs": [],
   "source": []
  },
  {
   "cell_type": "code",
   "execution_count": 1,
   "id": "60af9b6c-1a7e-402c-b843-52a7607ddbf2",
   "metadata": {},
   "outputs": [],
   "source": [
    "import os\n",
    "import nibabel as nib"
   ]
  },
  {
   "cell_type": "code",
   "execution_count": 2,
   "id": "acb847ea-8a2d-4715-a143-cf2031a35d0c",
   "metadata": {},
   "outputs": [],
   "source": [
    "def check_nii_shapes(folder_path):\n",
    "    # 获取该目录下所有以 .nii.gz 结尾的文件（不包含子文件夹）\n",
    "    nii_files = [f for f in os.listdir(folder_path) if f.endswith('.nii.gz')]\n",
    "    \n",
    "    shape_dict = {}\n",
    "\n",
    "    for nii_file in nii_files:\n",
    "        file_path = os.path.join(folder_path, nii_file)\n",
    "        img = nib.load(file_path)\n",
    "        shape = img.shape\n",
    "        shape_dict[nii_file] = shape\n",
    "\n",
    "    return shape_dict"
   ]
  },
  {
   "cell_type": "code",
   "execution_count": 2,
   "id": "a71be5cf-1d94-43a2-8d12-eb1ce9fddd00",
   "metadata": {},
   "outputs": [
    {
     "name": "stdout",
     "output_type": "stream",
     "text": [
      "20220114_35320313_BSR_20220111_pre_OP_FLAIR.nii.gz: (240, 240, 155)\n",
      "20220114_35320313_BSR_20220111_pre_OP_fused_mask.nii.gz: (240, 240, 155)\n",
      "20220114_35320313_BSR_20220111_pre_OP_T1.nii.gz: (240, 240, 155)\n",
      "20220114_35320313_BSR_20220111_pre_OP_T1ce.nii.gz: (240, 240, 155)\n",
      "20220114_35320313_BSR_20220111_pre_OP_T2.nii.gz: (240, 240, 155)\n",
      "20220114_35320313_BSR_20220115_post_OP_FLAIR.nii.gz: (240, 240, 155)\n",
      "20220114_35320313_BSR_20220115_post_OP_fused_mask.nii.gz: (240, 240, 155)\n",
      "20220114_35320313_BSR_20220115_post_OP_T1.nii.gz: (240, 240, 155)\n",
      "20220114_35320313_BSR_20220115_post_OP_T1ce.nii.gz: (240, 240, 155)\n",
      "20220114_35320313_BSR_20220115_post_OP_T2.nii.gz: (240, 240, 155)\n",
      "20220114_35320313_BSR_20220414_post_CCRT_1_FLAIR.nii.gz: (240, 240, 160)\n",
      "20220114_35320313_BSR_20220414_post_CCRT_1_fused_mask.nii.gz: (240, 240, 160)\n",
      "20220114_35320313_BSR_20220414_post_CCRT_1_T1.nii.gz: (240, 240, 160)\n",
      "20220114_35320313_BSR_20220414_post_CCRT_1_T1ce.nii.gz: (240, 240, 160)\n",
      "20220114_35320313_BSR_20220414_post_CCRT_1_T2.nii.gz: (240, 240, 160)\n",
      "20220114_35320313_BSR_20220706_post_CCRT_2_FLAIR.nii.gz: (240, 240, 160)\n",
      "20220114_35320313_BSR_20220706_post_CCRT_2_fused_mask.nii.gz: (240, 240, 160)\n",
      "20220114_35320313_BSR_20220706_post_CCRT_2_T1.nii.gz: (240, 240, 160)\n",
      "20220114_35320313_BSR_20220706_post_CCRT_2_T1ce.nii.gz: (240, 240, 160)\n",
      "20220114_35320313_BSR_20220706_post_CCRT_2_T2.nii.gz: (240, 240, 160)\n",
      "20220114_35320313_BSR_20220907_post_CCRT_3_FLAIR.nii.gz: (240, 240, 160)\n",
      "20220114_35320313_BSR_20220907_post_CCRT_3_fused_mask.nii.gz: (240, 240, 160)\n",
      "20220114_35320313_BSR_20220907_post_CCRT_3_T1.nii.gz: (240, 240, 160)\n",
      "20220114_35320313_BSR_20220907_post_CCRT_3_T1ce.nii.gz: (240, 240, 160)\n",
      "20220114_35320313_BSR_20220907_post_CCRT_3_T2.nii.gz: (240, 240, 160)\n",
      "20220114_35320313_BSR_20221101_post_CCRT_4_FLAIR.nii.gz: (240, 240, 155)\n",
      "20220114_35320313_BSR_20221101_post_CCRT_4_fused_mask.nii.gz: (240, 240, 155)\n",
      "20220114_35320313_BSR_20221101_post_CCRT_4_T1.nii.gz: (240, 240, 155)\n",
      "20220114_35320313_BSR_20221101_post_CCRT_4_T1ce.nii.gz: (240, 240, 155)\n",
      "20220114_35320313_BSR_20221101_post_CCRT_4_T2.nii.gz: (240, 240, 155)\n",
      "20220125_35306247_YJS_20220115_pre_OP_FLAIR.nii.gz: (240, 240, 155)\n",
      "20220125_35306247_YJS_20220115_pre_OP_fused_mask.nii.gz: (240, 240, 155)\n",
      "20220125_35306247_YJS_20220115_pre_OP_T1.nii.gz: (240, 240, 155)\n",
      "20220125_35306247_YJS_20220115_pre_OP_T1ce.nii.gz: (240, 240, 155)\n",
      "20220125_35306247_YJS_20220115_pre_OP_T2.nii.gz: (240, 240, 155)\n",
      "20220125_35306247_YJS_20220126_post_OP_FLAIR.nii.gz: (240, 240, 155)\n",
      "20220125_35306247_YJS_20220126_post_OP_fused_mask.nii.gz: (240, 240, 155)\n",
      "20220125_35306247_YJS_20220126_post_OP_T1.nii.gz: (240, 240, 155)\n",
      "20220125_35306247_YJS_20220126_post_OP_T1ce.nii.gz: (240, 240, 155)\n",
      "20220125_35306247_YJS_20220126_post_OP_T2.nii.gz: (240, 240, 155)\n",
      "20220125_35306247_YJS_20220420_post_CCRT_1_PsPD_FLAIR.nii.gz: (240, 240, 160)\n",
      "20220125_35306247_YJS_20220420_post_CCRT_1_PsPD_fused_mask.nii.gz: (240, 240, 160)\n",
      "20220125_35306247_YJS_20220420_post_CCRT_1_PsPD_T1.nii.gz: (240, 240, 160)\n",
      "20220125_35306247_YJS_20220420_post_CCRT_1_PsPD_T1ce.nii.gz: (240, 240, 160)\n",
      "20220125_35306247_YJS_20220420_post_CCRT_1_PsPD_T2.nii.gz: (240, 240, 160)\n",
      "20220125_35306247_YJS_20220514_post_CCRT_2_FLAIR.nii.gz: (240, 240, 155)\n",
      "20220125_35306247_YJS_20220514_post_CCRT_2_fused_mask.nii.gz: (240, 240, 155)\n",
      "20220125_35306247_YJS_20220514_post_CCRT_2_T1.nii.gz: (240, 240, 155)\n",
      "20220125_35306247_YJS_20220514_post_CCRT_2_T1ce.nii.gz: (240, 240, 155)\n",
      "20220125_35306247_YJS_20220514_post_CCRT_2_T2.nii.gz: (240, 240, 155)\n",
      "20220208_34607428_JGT_20220129_pre_OP_FLAIR.nii.gz: (240, 240, 155)\n",
      "20220208_34607428_JGT_20220129_pre_OP_fused_mask.nii.gz: (240, 240, 155)\n",
      "20220208_34607428_JGT_20220129_pre_OP_T1.nii.gz: (240, 240, 155)\n",
      "20220208_34607428_JGT_20220129_pre_OP_T1ce.nii.gz: (240, 240, 155)\n",
      "20220208_34607428_JGT_20220129_pre_OP_T2.nii.gz: (240, 240, 155)\n",
      "masked_20220114_35320313_BSR_20220111_pre_OP_0000.nii.gz: (240, 240, 155)\n",
      "masked_20220114_35320313_BSR_20220111_pre_OP_0001.nii.gz: (240, 240, 155)\n",
      "masked_20220114_35320313_BSR_20220111_pre_OP_0002.nii.gz: (240, 240, 155)\n",
      "masked_20220114_35320313_BSR_20220111_pre_OP_0003.nii.gz: (240, 240, 155)\n",
      "masked_20220114_35320313_BSR_20220115_post_OP_0000.nii.gz: (240, 240, 155)\n",
      "masked_20220114_35320313_BSR_20220115_post_OP_0001.nii.gz: (240, 240, 155)\n",
      "masked_20220114_35320313_BSR_20220115_post_OP_0002.nii.gz: (240, 240, 155)\n",
      "masked_20220114_35320313_BSR_20220115_post_OP_0003.nii.gz: (240, 240, 155)\n",
      "masked_20220114_35320313_BSR_20220414_post_CCRT_1_0000.nii.gz: (240, 240, 160)\n",
      "masked_20220114_35320313_BSR_20220414_post_CCRT_1_0001.nii.gz: (240, 240, 160)\n",
      "masked_20220114_35320313_BSR_20220414_post_CCRT_1_0002.nii.gz: (240, 240, 160)\n",
      "masked_20220114_35320313_BSR_20220414_post_CCRT_1_0003.nii.gz: (240, 240, 160)\n",
      "masked_20220114_35320313_BSR_20220706_post_CCRT_2_0000.nii.gz: (240, 240, 160)\n",
      "masked_20220114_35320313_BSR_20220706_post_CCRT_2_0001.nii.gz: (240, 240, 160)\n",
      "masked_20220114_35320313_BSR_20220706_post_CCRT_2_0002.nii.gz: (240, 240, 160)\n",
      "masked_20220114_35320313_BSR_20220706_post_CCRT_2_0003.nii.gz: (240, 240, 160)\n",
      "masked_20220114_35320313_BSR_20220907_post_CCRT_3_0000.nii.gz: (240, 240, 160)\n",
      "masked_20220114_35320313_BSR_20220907_post_CCRT_3_0001.nii.gz: (240, 240, 160)\n",
      "masked_20220114_35320313_BSR_20220907_post_CCRT_3_0002.nii.gz: (240, 240, 160)\n",
      "masked_20220114_35320313_BSR_20220907_post_CCRT_3_0003.nii.gz: (240, 240, 160)\n",
      "masked_20220114_35320313_BSR_20221101_post_CCRT_4_0000.nii.gz: (240, 240, 155)\n",
      "masked_20220114_35320313_BSR_20221101_post_CCRT_4_0001.nii.gz: (240, 240, 155)\n",
      "masked_20220114_35320313_BSR_20221101_post_CCRT_4_0002.nii.gz: (240, 240, 155)\n",
      "masked_20220114_35320313_BSR_20221101_post_CCRT_4_0003.nii.gz: (240, 240, 155)\n",
      "masked_20220125_35306247_YJS_20220115_pre_OP_0000.nii.gz: (240, 240, 155)\n",
      "masked_20220125_35306247_YJS_20220115_pre_OP_0001.nii.gz: (240, 240, 155)\n",
      "masked_20220125_35306247_YJS_20220115_pre_OP_0002.nii.gz: (240, 240, 155)\n",
      "masked_20220125_35306247_YJS_20220115_pre_OP_0003.nii.gz: (240, 240, 155)\n",
      "masked_20220125_35306247_YJS_20220126_post_OP_0000.nii.gz: (240, 240, 155)\n",
      "masked_20220125_35306247_YJS_20220126_post_OP_0001.nii.gz: (240, 240, 155)\n",
      "masked_20220125_35306247_YJS_20220126_post_OP_0002.nii.gz: (240, 240, 155)\n",
      "masked_20220125_35306247_YJS_20220126_post_OP_0003.nii.gz: (240, 240, 155)\n",
      "masked_20220125_35306247_YJS_20220420_post_CCRT_1_PsPD_0000.nii.gz: (240, 240, 160)\n",
      "masked_20220125_35306247_YJS_20220420_post_CCRT_1_PsPD_0001.nii.gz: (240, 240, 160)\n",
      "masked_20220125_35306247_YJS_20220420_post_CCRT_1_PsPD_0002.nii.gz: (240, 240, 160)\n",
      "masked_20220125_35306247_YJS_20220420_post_CCRT_1_PsPD_0003.nii.gz: (240, 240, 160)\n",
      "masked_20220125_35306247_YJS_20220514_post_CCRT_2_0000.nii.gz: (240, 240, 155)\n",
      "masked_20220125_35306247_YJS_20220514_post_CCRT_2_0001.nii.gz: (240, 240, 155)\n",
      "masked_20220125_35306247_YJS_20220514_post_CCRT_2_0002.nii.gz: (240, 240, 155)\n",
      "masked_20220125_35306247_YJS_20220514_post_CCRT_2_0003.nii.gz: (240, 240, 155)\n",
      "masked_20220208_34607428_JGT_20220129_pre_OP_0000.nii.gz: (240, 240, 155)\n",
      "masked_20220208_34607428_JGT_20220129_pre_OP_0001.nii.gz: (240, 240, 155)\n",
      "masked_20220208_34607428_JGT_20220129_pre_OP_0002.nii.gz: (240, 240, 155)\n",
      "masked_20220208_34607428_JGT_20220129_pre_OP_0003.nii.gz: (240, 240, 155)\n"
     ]
    }
   ],
   "source": [
    "# 使用方法：\n",
    "folder_path = 'C:/Users/ajhz839/workwork/Data/preprocessed' \n",
    "shapes = check_nii_shapes(folder_path)\n",
    "\n",
    "# 输出结果\n",
    "for file_name, shape in shapes.items():\n",
    "    print(f\"{file_name}: {shape}\")\n"
   ]
  },
  {
   "cell_type": "code",
   "execution_count": 4,
   "id": "0de65c63-130a-430c-b908-b39edcdbf9ea",
   "metadata": {},
   "outputs": [
    {
     "name": "stdout",
     "output_type": "stream",
     "text": [
      "BraTS2021_00495_flair.nii.gz: (240, 240, 155)\n",
      "BraTS2021_00495_seg.nii.gz: (240, 240, 155)\n",
      "BraTS2021_00495_t1.nii.gz: (240, 240, 155)\n",
      "BraTS2021_00495_t1ce.nii.gz: (240, 240, 155)\n",
      "BraTS2021_00495_t2.nii.gz: (240, 240, 155)\n"
     ]
    }
   ],
   "source": [
    "# 使用方法：\n",
    "folder_path = 'C:/Users/ajhz839/workwork/Data/BraTS2021_00495' \n",
    "shapes = check_nii_shapes(folder_path)\n",
    "\n",
    "# 输出结果\n",
    "for file_name, shape in shapes.items():\n",
    "    print(f\"{file_name}: {shape}\")"
   ]
  }
 ],
 "metadata": {
  "kernelspec": {
   "display_name": "Python 3 (ipykernel)",
   "language": "python",
   "name": "python3"
  },
  "language_info": {
   "codemirror_mode": {
    "name": "ipython",
    "version": 3
   },
   "file_extension": ".py",
   "mimetype": "text/x-python",
   "name": "python",
   "nbconvert_exporter": "python",
   "pygments_lexer": "ipython3",
   "version": "3.9.21"
  }
 },
 "nbformat": 4,
 "nbformat_minor": 5
}
