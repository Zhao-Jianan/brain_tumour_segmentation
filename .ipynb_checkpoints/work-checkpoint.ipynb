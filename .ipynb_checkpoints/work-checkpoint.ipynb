{
 "cells": [
  {
   "cell_type": "code",
   "execution_count": 1,
   "id": "cda6e6a5-37a0-45d1-ab49-61f03b2bce39",
   "metadata": {},
   "outputs": [],
   "source": [
    "import os\n",
    "\n",
    "def list_files(directory, output_file):\n",
    "    file_list = []\n",
    "    for root, _, files in os.walk(directory):\n",
    "        file_list.extend(files)\n",
    "    \n",
    "    # 按字母顺序排序，忽略大小写\n",
    "    file_list.sort(key=lambda x: x.lower())\n",
    "    \n",
    "    with open(output_file, 'w', encoding='utf-8') as f:\n",
    "        for file in file_list:\n",
    "            f.write(f\"{file}\\n\")\n"
   ]
  },
  {
   "cell_type": "code",
   "execution_count": 2,
   "id": "2fb383f8-5b1d-4e6b-90e5-39fd318a64df",
   "metadata": {},
   "outputs": [
    {
     "name": "stdout",
     "output_type": "stream",
     "text": [
      "所有文件名已保存到 C:\\Users\\ajhz839\\workwork\\Data\\20220706_post_CCRT_2_output.txt\n"
     ]
    }
   ],
   "source": [
    "if __name__ == \"__main__\":\n",
    "    folder_path = r'C:\\Users\\ajhz839\\workwork\\Data\\NIfTI\\20220114_35320313_BSR\\20220706_post_CCRT_2'\n",
    "    output_path = r\"C:\\Users\\ajhz839\\workwork\\Data\\20220706_post_CCRT_2_output.txt\"\n",
    "    list_files(folder_path, output_path)\n",
    "    print(f\"所有文件名已保存到 {output_path}\")"
   ]
  }
 ],
 "metadata": {
  "kernelspec": {
   "display_name": "Python 3 (ipykernel)",
   "language": "python",
   "name": "python3"
  },
  "language_info": {
   "codemirror_mode": {
    "name": "ipython",
    "version": 3
   },
   "file_extension": ".py",
   "mimetype": "text/x-python",
   "name": "python",
   "nbconvert_exporter": "python",
   "pygments_lexer": "ipython3",
   "version": "3.9.21"
  }
 },
 "nbformat": 4,
 "nbformat_minor": 5
}
